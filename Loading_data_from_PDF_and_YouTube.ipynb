{
  "nbformat": 4,
  "nbformat_minor": 0,
  "metadata": {
    "colab": {
      "provenance": [],
      "authorship_tag": "ABX9TyO2U3R0sP1/X6AUWPNOFlyj",
      "include_colab_link": true
    },
    "kernelspec": {
      "name": "python3",
      "display_name": "Python 3"
    },
    "language_info": {
      "name": "python"
    }
  },
  "cells": [
    {
      "cell_type": "markdown",
      "metadata": {
        "id": "view-in-github",
        "colab_type": "text"
      },
      "source": [
        "<a href=\"https://colab.research.google.com/github/quallio/LangChain_LLM_projects/blob/main/Loading_data_from_PDF_and_YouTube.ipynb\" target=\"_parent\"><img src=\"https://colab.research.google.com/assets/colab-badge.svg\" alt=\"Open In Colab\"/></a>"
      ]
    },
    {
      "cell_type": "markdown",
      "source": [
        "# PDFs"
      ],
      "metadata": {
        "id": "DQLa94ogcHat"
      }
    },
    {
      "cell_type": "code",
      "source": [
        "# ! pip install langchain\n",
        "# ! pip install openai\n",
        "# ! pip install pypdf\n",
        "import openai"
      ],
      "metadata": {
        "id": "CrGj6iMqcMcz"
      },
      "execution_count": 18,
      "outputs": []
    },
    {
      "cell_type": "code",
      "source": [
        "from langchain.document_loaders import PyPDFLoader\n",
        "# Here you can use the PDF file you want. Be careful with the location of the file.\n",
        "loader = PyPDFLoader(\"historia_argentina.pdf\")\n",
        "pages = loader.load()"
      ],
      "metadata": {
        "id": "gBDpU00wYs9N"
      },
      "execution_count": 6,
      "outputs": []
    },
    {
      "cell_type": "code",
      "source": [
        "len(pages)"
      ],
      "metadata": {
        "colab": {
          "base_uri": "https://localhost:8080/"
        },
        "id": "1vtE-ahbbwpt",
        "outputId": "70afdc41-3954-4f8d-d0de-73150cb515ef"
      },
      "execution_count": 7,
      "outputs": [
        {
          "output_type": "execute_result",
          "data": {
            "text/plain": [
              "214"
            ]
          },
          "metadata": {},
          "execution_count": 7
        }
      ]
    },
    {
      "cell_type": "code",
      "source": [
        "page = pages[100]"
      ],
      "metadata": {
        "id": "nSUDcib-bzXk"
      },
      "execution_count": 10,
      "outputs": []
    },
    {
      "cell_type": "code",
      "source": [
        "print(page.page_content[0:1000])"
      ],
      "metadata": {
        "colab": {
          "base_uri": "https://localhost:8080/"
        },
        "id": "GISpeJNPbz6o",
        "outputId": "fc19e4a9-c96e-49c9-c699-e3ce8df49560"
      },
      "execution_count": 12,
      "outputs": [
        {
          "output_type": "stream",
          "name": "stdout",
          "text": [
            "99\n",
            "UNIDAD 3ProPUE sTas Para El dEbaTE\n",
            " Las siguientes actividades proponen t emas para la reflexión, vinculados al \n",
            "período histórico que se aborda en esta unidad. Le proponemos realizar estas \n",
            "reflexiones colectivamente, junto a sus compañeros y el profesor tutor, en el encuentro de tutoría.\n",
            "1. \n",
            " Una letra de t\n",
            "ango se transformó en el “himno” de la época, es decir una \n",
            "canción representativa de ese particular momento histórico. La canción todavía se canta y, además, es recreada por otros artistas, adaptada a otros géneros. Estamos hablando de “\n",
            "Cambalache ”, escrita por Enrique Santos Discépolo en \n",
            "1935. Busquen la letra y escuchen la canción. ¿Qué sentimientos, sensaciones, tiene el autor sobre esta época? De acuerdo a lo estudiado, discutan entre ustedes si la letra de la canción refleja fielmente la época. \n",
            "  \n",
            " Para más inf\n",
            "ormación sobre Enrique Santos Discépolo y su época, ustedes \n",
            "pueden ver el documental producido por Canal Encuentro, en la serie Soy del pueblo, \n",
            "Enrique Santo\n"
          ]
        }
      ]
    },
    {
      "cell_type": "code",
      "source": [
        "page.metadata"
      ],
      "metadata": {
        "colab": {
          "base_uri": "https://localhost:8080/"
        },
        "id": "iC1fjy2Db4gp",
        "outputId": "37f06da2-fbf6-44ae-bc7e-ccc3a6ff5ba5"
      },
      "execution_count": 13,
      "outputs": [
        {
          "output_type": "execute_result",
          "data": {
            "text/plain": [
              "{'source': 'historia_argentina.pdf', 'page': 100}"
            ]
          },
          "metadata": {},
          "execution_count": 13
        }
      ]
    },
    {
      "cell_type": "markdown",
      "source": [
        "# YouTube"
      ],
      "metadata": {
        "id": "kmbCY862ceee"
      }
    },
    {
      "cell_type": "code",
      "source": [
        "from langchain.document_loaders.generic import GenericLoader\n",
        "from langchain.document_loaders.parsers import OpenAIWhisperParser\n",
        "from langchain.document_loaders.blob_loaders.youtube_audio import YoutubeAudioLoader"
      ],
      "metadata": {
        "id": "gNGUq13qcgvf"
      },
      "execution_count": 15,
      "outputs": []
    },
    {
      "cell_type": "code",
      "source": [
        "# ! pip install yt_dlp\n",
        "# ! pip install pydub"
      ],
      "metadata": {
        "id": "B51FYBoPcn_R"
      },
      "execution_count": null,
      "outputs": []
    },
    {
      "cell_type": "code",
      "source": [
        "# For this case we need the OPENAI key, which is paid. The mine, which is free, does not have more credit for this month XD\n",
        "\n",
        "url=\"https://www.youtube.com/watch?v=XYO03BBKZ_4&ab_channel=FacundoCabral\"\n",
        "save_dir=\"docs/youtube/\"\n",
        "loader = GenericLoader(\n",
        "    YoutubeAudioLoader([url],save_dir),\n",
        "    OpenAIWhisperParser()\n",
        ")\n",
        "docs = loader.load()"
      ],
      "metadata": {
        "colab": {
          "base_uri": "https://localhost:8080/"
        },
        "id": "HOZc67GBcx0j",
        "outputId": "d1664194-a36c-47d8-f677-f4182218fb37"
      },
      "execution_count": 17,
      "outputs": [
        {
          "output_type": "stream",
          "name": "stdout",
          "text": [
            "[youtube] Extracting URL: https://www.youtube.com/watch?v=XYO03BBKZ_4&ab_channel=FacundoCabral\n",
            "[youtube] XYO03BBKZ_4: Downloading webpage\n",
            "[youtube] XYO03BBKZ_4: Downloading ios player API JSON\n",
            "[youtube] XYO03BBKZ_4: Downloading android player API JSON\n",
            "[youtube] XYO03BBKZ_4: Downloading m3u8 information\n",
            "[info] XYO03BBKZ_4: Downloading 1 format(s): 140\n",
            "[download] Destination: docs/youtube//Este es un nuevo día (En vivo) - Facundo Cabral.m4a\n",
            "[download] 100% of    6.84MiB in 00:00:00 at 36.62MiB/s  \n",
            "[FixupM4a] Correcting container of \"docs/youtube//Este es un nuevo día (En vivo) - Facundo Cabral.m4a\"\n",
            "[ExtractAudio] Not converting audio docs/youtube//Este es un nuevo día (En vivo) - Facundo Cabral.m4a; file is already in target format m4a\n",
            "Transcribing part 1!\n",
            "Attempt 1 failed. Exception: No API key provided. You can set your API key in code using 'openai.api_key = <API-KEY>', or you can set the environment variable OPENAI_API_KEY=<API-KEY>). If your API key is stored in a file, you can point the openai module at it with 'openai.api_key_path = <PATH>'. You can generate API keys in the OpenAI web interface. See https://platform.openai.com/account/api-keys for details.\n",
            "Attempt 2 failed. Exception: No API key provided. You can set your API key in code using 'openai.api_key = <API-KEY>', or you can set the environment variable OPENAI_API_KEY=<API-KEY>). If your API key is stored in a file, you can point the openai module at it with 'openai.api_key_path = <PATH>'. You can generate API keys in the OpenAI web interface. See https://platform.openai.com/account/api-keys for details.\n",
            "Attempt 3 failed. Exception: No API key provided. You can set your API key in code using 'openai.api_key = <API-KEY>', or you can set the environment variable OPENAI_API_KEY=<API-KEY>). If your API key is stored in a file, you can point the openai module at it with 'openai.api_key_path = <PATH>'. You can generate API keys in the OpenAI web interface. See https://platform.openai.com/account/api-keys for details.\n",
            "Failed to transcribe after 3 attempts.\n"
          ]
        }
      ]
    },
    {
      "cell_type": "code",
      "source": [
        "docs[0].page_content[0:500]"
      ],
      "metadata": {
        "id": "CrUhDxjpc7nT"
      },
      "execution_count": null,
      "outputs": []
    }
  ]
}