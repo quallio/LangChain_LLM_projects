{
  "nbformat": 4,
  "nbformat_minor": 0,
  "metadata": {
    "colab": {
      "provenance": [],
      "gpuType": "T4"
    },
    "kernelspec": {
      "name": "python3",
      "display_name": "Python 3"
    },
    "language_info": {
      "name": "python"
    },
    "accelerator": "GPU"
  },
  "cells": [
    {
      "cell_type": "code",
      "execution_count": 1,
      "metadata": {
        "colab": {
          "base_uri": "https://localhost:8080/"
        },
        "id": "VdkY3bxU2ecw",
        "outputId": "6c5a505e-0a9d-4b66-cc00-27bf1c2a66df"
      },
      "outputs": [
        {
          "output_type": "stream",
          "name": "stdout",
          "text": [
            "Requirement already satisfied: langchain in /usr/local/lib/python3.10/dist-packages (0.0.271)\n",
            "Requirement already satisfied: PyYAML>=5.3 in /usr/local/lib/python3.10/dist-packages (from langchain) (6.0.1)\n",
            "Requirement already satisfied: SQLAlchemy<3,>=1.4 in /usr/local/lib/python3.10/dist-packages (from langchain) (2.0.20)\n",
            "Requirement already satisfied: aiohttp<4.0.0,>=3.8.3 in /usr/local/lib/python3.10/dist-packages (from langchain) (3.8.5)\n",
            "Requirement already satisfied: async-timeout<5.0.0,>=4.0.0 in /usr/local/lib/python3.10/dist-packages (from langchain) (4.0.3)\n",
            "Requirement already satisfied: dataclasses-json<0.6.0,>=0.5.7 in /usr/local/lib/python3.10/dist-packages (from langchain) (0.5.14)\n",
            "Requirement already satisfied: langsmith<0.1.0,>=0.0.21 in /usr/local/lib/python3.10/dist-packages (from langchain) (0.0.26)\n",
            "Requirement already satisfied: numexpr<3.0.0,>=2.8.4 in /usr/local/lib/python3.10/dist-packages (from langchain) (2.8.5)\n",
            "Requirement already satisfied: numpy<2,>=1 in /usr/local/lib/python3.10/dist-packages (from langchain) (1.23.5)\n",
            "Requirement already satisfied: pydantic<3,>=1 in /usr/local/lib/python3.10/dist-packages (from langchain) (1.10.12)\n",
            "Requirement already satisfied: requests<3,>=2 in /usr/local/lib/python3.10/dist-packages (from langchain) (2.31.0)\n",
            "Requirement already satisfied: tenacity<9.0.0,>=8.1.0 in /usr/local/lib/python3.10/dist-packages (from langchain) (8.2.3)\n",
            "Requirement already satisfied: attrs>=17.3.0 in /usr/local/lib/python3.10/dist-packages (from aiohttp<4.0.0,>=3.8.3->langchain) (23.1.0)\n",
            "Requirement already satisfied: charset-normalizer<4.0,>=2.0 in /usr/local/lib/python3.10/dist-packages (from aiohttp<4.0.0,>=3.8.3->langchain) (3.2.0)\n",
            "Requirement already satisfied: multidict<7.0,>=4.5 in /usr/local/lib/python3.10/dist-packages (from aiohttp<4.0.0,>=3.8.3->langchain) (6.0.4)\n",
            "Requirement already satisfied: yarl<2.0,>=1.0 in /usr/local/lib/python3.10/dist-packages (from aiohttp<4.0.0,>=3.8.3->langchain) (1.9.2)\n",
            "Requirement already satisfied: frozenlist>=1.1.1 in /usr/local/lib/python3.10/dist-packages (from aiohttp<4.0.0,>=3.8.3->langchain) (1.4.0)\n",
            "Requirement already satisfied: aiosignal>=1.1.2 in /usr/local/lib/python3.10/dist-packages (from aiohttp<4.0.0,>=3.8.3->langchain) (1.3.1)\n",
            "Requirement already satisfied: marshmallow<4.0.0,>=3.18.0 in /usr/local/lib/python3.10/dist-packages (from dataclasses-json<0.6.0,>=0.5.7->langchain) (3.20.1)\n",
            "Requirement already satisfied: typing-inspect<1,>=0.4.0 in /usr/local/lib/python3.10/dist-packages (from dataclasses-json<0.6.0,>=0.5.7->langchain) (0.9.0)\n",
            "Requirement already satisfied: typing-extensions>=4.2.0 in /usr/local/lib/python3.10/dist-packages (from pydantic<3,>=1->langchain) (4.7.1)\n",
            "Requirement already satisfied: idna<4,>=2.5 in /usr/local/lib/python3.10/dist-packages (from requests<3,>=2->langchain) (3.4)\n",
            "Requirement already satisfied: urllib3<3,>=1.21.1 in /usr/local/lib/python3.10/dist-packages (from requests<3,>=2->langchain) (2.0.4)\n",
            "Requirement already satisfied: certifi>=2017.4.17 in /usr/local/lib/python3.10/dist-packages (from requests<3,>=2->langchain) (2023.7.22)\n",
            "Requirement already satisfied: greenlet!=0.4.17 in /usr/local/lib/python3.10/dist-packages (from SQLAlchemy<3,>=1.4->langchain) (2.0.2)\n",
            "Requirement already satisfied: packaging>=17.0 in /usr/local/lib/python3.10/dist-packages (from marshmallow<4.0.0,>=3.18.0->dataclasses-json<0.6.0,>=0.5.7->langchain) (23.1)\n",
            "Requirement already satisfied: mypy-extensions>=0.3.0 in /usr/local/lib/python3.10/dist-packages (from typing-inspect<1,>=0.4.0->dataclasses-json<0.6.0,>=0.5.7->langchain) (1.0.0)\n",
            "Requirement already satisfied: huggingface_hub in /usr/local/lib/python3.10/dist-packages (0.16.4)\n",
            "Requirement already satisfied: filelock in /usr/local/lib/python3.10/dist-packages (from huggingface_hub) (3.12.2)\n",
            "Requirement already satisfied: fsspec in /usr/local/lib/python3.10/dist-packages (from huggingface_hub) (2023.6.0)\n",
            "Requirement already satisfied: requests in /usr/local/lib/python3.10/dist-packages (from huggingface_hub) (2.31.0)\n",
            "Requirement already satisfied: tqdm>=4.42.1 in /usr/local/lib/python3.10/dist-packages (from huggingface_hub) (4.66.1)\n",
            "Requirement already satisfied: pyyaml>=5.1 in /usr/local/lib/python3.10/dist-packages (from huggingface_hub) (6.0.1)\n",
            "Requirement already satisfied: typing-extensions>=3.7.4.3 in /usr/local/lib/python3.10/dist-packages (from huggingface_hub) (4.7.1)\n",
            "Requirement already satisfied: packaging>=20.9 in /usr/local/lib/python3.10/dist-packages (from huggingface_hub) (23.1)\n",
            "Requirement already satisfied: charset-normalizer<4,>=2 in /usr/local/lib/python3.10/dist-packages (from requests->huggingface_hub) (3.2.0)\n",
            "Requirement already satisfied: idna<4,>=2.5 in /usr/local/lib/python3.10/dist-packages (from requests->huggingface_hub) (3.4)\n",
            "Requirement already satisfied: urllib3<3,>=1.21.1 in /usr/local/lib/python3.10/dist-packages (from requests->huggingface_hub) (2.0.4)\n",
            "Requirement already satisfied: certifi>=2017.4.17 in /usr/local/lib/python3.10/dist-packages (from requests->huggingface_hub) (2023.7.22)\n",
            "Requirement already satisfied: transformers in /usr/local/lib/python3.10/dist-packages (4.32.0)\n",
            "Requirement already satisfied: filelock in /usr/local/lib/python3.10/dist-packages (from transformers) (3.12.2)\n",
            "Requirement already satisfied: huggingface-hub<1.0,>=0.15.1 in /usr/local/lib/python3.10/dist-packages (from transformers) (0.16.4)\n",
            "Requirement already satisfied: numpy>=1.17 in /usr/local/lib/python3.10/dist-packages (from transformers) (1.23.5)\n",
            "Requirement already satisfied: packaging>=20.0 in /usr/local/lib/python3.10/dist-packages (from transformers) (23.1)\n",
            "Requirement already satisfied: pyyaml>=5.1 in /usr/local/lib/python3.10/dist-packages (from transformers) (6.0.1)\n",
            "Requirement already satisfied: regex!=2019.12.17 in /usr/local/lib/python3.10/dist-packages (from transformers) (2023.6.3)\n",
            "Requirement already satisfied: requests in /usr/local/lib/python3.10/dist-packages (from transformers) (2.31.0)\n",
            "Requirement already satisfied: tokenizers!=0.11.3,<0.14,>=0.11.1 in /usr/local/lib/python3.10/dist-packages (from transformers) (0.13.3)\n",
            "Requirement already satisfied: safetensors>=0.3.1 in /usr/local/lib/python3.10/dist-packages (from transformers) (0.3.2)\n",
            "Requirement already satisfied: tqdm>=4.27 in /usr/local/lib/python3.10/dist-packages (from transformers) (4.66.1)\n",
            "Requirement already satisfied: fsspec in /usr/local/lib/python3.10/dist-packages (from huggingface-hub<1.0,>=0.15.1->transformers) (2023.6.0)\n",
            "Requirement already satisfied: typing-extensions>=3.7.4.3 in /usr/local/lib/python3.10/dist-packages (from huggingface-hub<1.0,>=0.15.1->transformers) (4.7.1)\n",
            "Requirement already satisfied: charset-normalizer<4,>=2 in /usr/local/lib/python3.10/dist-packages (from requests->transformers) (3.2.0)\n",
            "Requirement already satisfied: idna<4,>=2.5 in /usr/local/lib/python3.10/dist-packages (from requests->transformers) (3.4)\n",
            "Requirement already satisfied: urllib3<3,>=1.21.1 in /usr/local/lib/python3.10/dist-packages (from requests->transformers) (2.0.4)\n",
            "Requirement already satisfied: certifi>=2017.4.17 in /usr/local/lib/python3.10/dist-packages (from requests->transformers) (2023.7.22)\n",
            "Requirement already satisfied: datasets in /usr/local/lib/python3.10/dist-packages (2.14.4)\n",
            "Requirement already satisfied: numpy>=1.17 in /usr/local/lib/python3.10/dist-packages (from datasets) (1.23.5)\n",
            "Requirement already satisfied: pyarrow>=8.0.0 in /usr/local/lib/python3.10/dist-packages (from datasets) (9.0.0)\n",
            "Requirement already satisfied: dill<0.3.8,>=0.3.0 in /usr/local/lib/python3.10/dist-packages (from datasets) (0.3.7)\n",
            "Requirement already satisfied: pandas in /usr/local/lib/python3.10/dist-packages (from datasets) (1.5.3)\n",
            "Requirement already satisfied: requests>=2.19.0 in /usr/local/lib/python3.10/dist-packages (from datasets) (2.31.0)\n",
            "Requirement already satisfied: tqdm>=4.62.1 in /usr/local/lib/python3.10/dist-packages (from datasets) (4.66.1)\n",
            "Requirement already satisfied: xxhash in /usr/local/lib/python3.10/dist-packages (from datasets) (3.3.0)\n",
            "Requirement already satisfied: multiprocess in /usr/local/lib/python3.10/dist-packages (from datasets) (0.70.15)\n",
            "Requirement already satisfied: fsspec[http]>=2021.11.1 in /usr/local/lib/python3.10/dist-packages (from datasets) (2023.6.0)\n",
            "Requirement already satisfied: aiohttp in /usr/local/lib/python3.10/dist-packages (from datasets) (3.8.5)\n",
            "Requirement already satisfied: huggingface-hub<1.0.0,>=0.14.0 in /usr/local/lib/python3.10/dist-packages (from datasets) (0.16.4)\n",
            "Requirement already satisfied: packaging in /usr/local/lib/python3.10/dist-packages (from datasets) (23.1)\n",
            "Requirement already satisfied: pyyaml>=5.1 in /usr/local/lib/python3.10/dist-packages (from datasets) (6.0.1)\n",
            "Requirement already satisfied: attrs>=17.3.0 in /usr/local/lib/python3.10/dist-packages (from aiohttp->datasets) (23.1.0)\n",
            "Requirement already satisfied: charset-normalizer<4.0,>=2.0 in /usr/local/lib/python3.10/dist-packages (from aiohttp->datasets) (3.2.0)\n",
            "Requirement already satisfied: multidict<7.0,>=4.5 in /usr/local/lib/python3.10/dist-packages (from aiohttp->datasets) (6.0.4)\n",
            "Requirement already satisfied: async-timeout<5.0,>=4.0.0a3 in /usr/local/lib/python3.10/dist-packages (from aiohttp->datasets) (4.0.3)\n",
            "Requirement already satisfied: yarl<2.0,>=1.0 in /usr/local/lib/python3.10/dist-packages (from aiohttp->datasets) (1.9.2)\n",
            "Requirement already satisfied: frozenlist>=1.1.1 in /usr/local/lib/python3.10/dist-packages (from aiohttp->datasets) (1.4.0)\n",
            "Requirement already satisfied: aiosignal>=1.1.2 in /usr/local/lib/python3.10/dist-packages (from aiohttp->datasets) (1.3.1)\n",
            "Requirement already satisfied: filelock in /usr/local/lib/python3.10/dist-packages (from huggingface-hub<1.0.0,>=0.14.0->datasets) (3.12.2)\n",
            "Requirement already satisfied: typing-extensions>=3.7.4.3 in /usr/local/lib/python3.10/dist-packages (from huggingface-hub<1.0.0,>=0.14.0->datasets) (4.7.1)\n",
            "Requirement already satisfied: idna<4,>=2.5 in /usr/local/lib/python3.10/dist-packages (from requests>=2.19.0->datasets) (3.4)\n",
            "Requirement already satisfied: urllib3<3,>=1.21.1 in /usr/local/lib/python3.10/dist-packages (from requests>=2.19.0->datasets) (2.0.4)\n",
            "Requirement already satisfied: certifi>=2017.4.17 in /usr/local/lib/python3.10/dist-packages (from requests>=2.19.0->datasets) (2023.7.22)\n",
            "Requirement already satisfied: python-dateutil>=2.8.1 in /usr/local/lib/python3.10/dist-packages (from pandas->datasets) (2.8.2)\n",
            "Requirement already satisfied: pytz>=2020.1 in /usr/local/lib/python3.10/dist-packages (from pandas->datasets) (2023.3)\n",
            "Requirement already satisfied: six>=1.5 in /usr/local/lib/python3.10/dist-packages (from python-dateutil>=2.8.1->pandas->datasets) (1.16.0)\n",
            "Requirement already satisfied: unstructured in /usr/local/lib/python3.10/dist-packages (0.10.4)\n",
            "Requirement already satisfied: chardet in /usr/local/lib/python3.10/dist-packages (from unstructured) (5.2.0)\n",
            "Requirement already satisfied: filetype in /usr/local/lib/python3.10/dist-packages (from unstructured) (1.2.0)\n",
            "Requirement already satisfied: python-magic in /usr/local/lib/python3.10/dist-packages (from unstructured) (0.4.27)\n",
            "Requirement already satisfied: lxml in /usr/local/lib/python3.10/dist-packages (from unstructured) (4.9.3)\n",
            "Requirement already satisfied: nltk in /usr/local/lib/python3.10/dist-packages (from unstructured) (3.8.1)\n",
            "Requirement already satisfied: tabulate in /usr/local/lib/python3.10/dist-packages (from unstructured) (0.9.0)\n",
            "Requirement already satisfied: requests in /usr/local/lib/python3.10/dist-packages (from unstructured) (2.31.0)\n",
            "Requirement already satisfied: beautifulsoup4 in /usr/local/lib/python3.10/dist-packages (from unstructured) (4.11.2)\n",
            "Requirement already satisfied: emoji in /usr/local/lib/python3.10/dist-packages (from unstructured) (2.8.0)\n",
            "Requirement already satisfied: soupsieve>1.2 in /usr/local/lib/python3.10/dist-packages (from beautifulsoup4->unstructured) (2.4.1)\n",
            "Requirement already satisfied: click in /usr/local/lib/python3.10/dist-packages (from nltk->unstructured) (8.1.7)\n",
            "Requirement already satisfied: joblib in /usr/local/lib/python3.10/dist-packages (from nltk->unstructured) (1.3.2)\n",
            "Requirement already satisfied: regex>=2021.8.3 in /usr/local/lib/python3.10/dist-packages (from nltk->unstructured) (2023.6.3)\n",
            "Requirement already satisfied: tqdm in /usr/local/lib/python3.10/dist-packages (from nltk->unstructured) (4.66.1)\n",
            "Requirement already satisfied: charset-normalizer<4,>=2 in /usr/local/lib/python3.10/dist-packages (from requests->unstructured) (3.2.0)\n",
            "Requirement already satisfied: idna<4,>=2.5 in /usr/local/lib/python3.10/dist-packages (from requests->unstructured) (3.4)\n",
            "Requirement already satisfied: urllib3<3,>=1.21.1 in /usr/local/lib/python3.10/dist-packages (from requests->unstructured) (2.0.4)\n",
            "Requirement already satisfied: certifi>=2017.4.17 in /usr/local/lib/python3.10/dist-packages (from requests->unstructured) (2023.7.22)\n",
            "Requirement already satisfied: pdf2image in /usr/local/lib/python3.10/dist-packages (1.16.3)\n",
            "Requirement already satisfied: pillow in /usr/local/lib/python3.10/dist-packages (from pdf2image) (9.4.0)\n",
            "Requirement already satisfied: pdfminer in /usr/local/lib/python3.10/dist-packages (20191125)\n",
            "Requirement already satisfied: pycryptodome in /usr/local/lib/python3.10/dist-packages (from pdfminer) (3.18.0)\n",
            "Requirement already satisfied: pdfminer-six in /usr/local/lib/python3.10/dist-packages (20221105)\n",
            "Requirement already satisfied: charset-normalizer>=2.0.0 in /usr/local/lib/python3.10/dist-packages (from pdfminer-six) (3.2.0)\n",
            "Requirement already satisfied: cryptography>=36.0.0 in /usr/local/lib/python3.10/dist-packages (from pdfminer-six) (41.0.3)\n",
            "Requirement already satisfied: cffi>=1.12 in /usr/local/lib/python3.10/dist-packages (from cryptography>=36.0.0->pdfminer-six) (1.15.1)\n",
            "Requirement already satisfied: pycparser in /usr/local/lib/python3.10/dist-packages (from cffi>=1.12->cryptography>=36.0.0->pdfminer-six) (2.21)\n",
            "Requirement already satisfied: sentence_transformers in /usr/local/lib/python3.10/dist-packages (2.2.2)\n",
            "Requirement already satisfied: transformers<5.0.0,>=4.6.0 in /usr/local/lib/python3.10/dist-packages (from sentence_transformers) (4.32.0)\n",
            "Requirement already satisfied: tqdm in /usr/local/lib/python3.10/dist-packages (from sentence_transformers) (4.66.1)\n",
            "Requirement already satisfied: torch>=1.6.0 in /usr/local/lib/python3.10/dist-packages (from sentence_transformers) (2.0.1+cu118)\n",
            "Requirement already satisfied: torchvision in /usr/local/lib/python3.10/dist-packages (from sentence_transformers) (0.15.2+cu118)\n",
            "Requirement already satisfied: numpy in /usr/local/lib/python3.10/dist-packages (from sentence_transformers) (1.23.5)\n",
            "Requirement already satisfied: scikit-learn in /usr/local/lib/python3.10/dist-packages (from sentence_transformers) (1.2.2)\n",
            "Requirement already satisfied: scipy in /usr/local/lib/python3.10/dist-packages (from sentence_transformers) (1.10.1)\n",
            "Requirement already satisfied: nltk in /usr/local/lib/python3.10/dist-packages (from sentence_transformers) (3.8.1)\n",
            "Requirement already satisfied: sentencepiece in /usr/local/lib/python3.10/dist-packages (from sentence_transformers) (0.1.99)\n",
            "Requirement already satisfied: huggingface-hub>=0.4.0 in /usr/local/lib/python3.10/dist-packages (from sentence_transformers) (0.16.4)\n",
            "Requirement already satisfied: filelock in /usr/local/lib/python3.10/dist-packages (from huggingface-hub>=0.4.0->sentence_transformers) (3.12.2)\n",
            "Requirement already satisfied: fsspec in /usr/local/lib/python3.10/dist-packages (from huggingface-hub>=0.4.0->sentence_transformers) (2023.6.0)\n",
            "Requirement already satisfied: requests in /usr/local/lib/python3.10/dist-packages (from huggingface-hub>=0.4.0->sentence_transformers) (2.31.0)\n",
            "Requirement already satisfied: pyyaml>=5.1 in /usr/local/lib/python3.10/dist-packages (from huggingface-hub>=0.4.0->sentence_transformers) (6.0.1)\n",
            "Requirement already satisfied: typing-extensions>=3.7.4.3 in /usr/local/lib/python3.10/dist-packages (from huggingface-hub>=0.4.0->sentence_transformers) (4.7.1)\n",
            "Requirement already satisfied: packaging>=20.9 in /usr/local/lib/python3.10/dist-packages (from huggingface-hub>=0.4.0->sentence_transformers) (23.1)\n",
            "Requirement already satisfied: sympy in /usr/local/lib/python3.10/dist-packages (from torch>=1.6.0->sentence_transformers) (1.12)\n",
            "Requirement already satisfied: networkx in /usr/local/lib/python3.10/dist-packages (from torch>=1.6.0->sentence_transformers) (3.1)\n",
            "Requirement already satisfied: jinja2 in /usr/local/lib/python3.10/dist-packages (from torch>=1.6.0->sentence_transformers) (3.1.2)\n",
            "Requirement already satisfied: triton==2.0.0 in /usr/local/lib/python3.10/dist-packages (from torch>=1.6.0->sentence_transformers) (2.0.0)\n",
            "Requirement already satisfied: cmake in /usr/local/lib/python3.10/dist-packages (from triton==2.0.0->torch>=1.6.0->sentence_transformers) (3.27.2)\n",
            "Requirement already satisfied: lit in /usr/local/lib/python3.10/dist-packages (from triton==2.0.0->torch>=1.6.0->sentence_transformers) (16.0.6)\n",
            "Requirement already satisfied: regex!=2019.12.17 in /usr/local/lib/python3.10/dist-packages (from transformers<5.0.0,>=4.6.0->sentence_transformers) (2023.6.3)\n",
            "Requirement already satisfied: tokenizers!=0.11.3,<0.14,>=0.11.1 in /usr/local/lib/python3.10/dist-packages (from transformers<5.0.0,>=4.6.0->sentence_transformers) (0.13.3)\n",
            "Requirement already satisfied: safetensors>=0.3.1 in /usr/local/lib/python3.10/dist-packages (from transformers<5.0.0,>=4.6.0->sentence_transformers) (0.3.2)\n",
            "Requirement already satisfied: click in /usr/local/lib/python3.10/dist-packages (from nltk->sentence_transformers) (8.1.7)\n",
            "Requirement already satisfied: joblib in /usr/local/lib/python3.10/dist-packages (from nltk->sentence_transformers) (1.3.2)\n",
            "Requirement already satisfied: threadpoolctl>=2.0.0 in /usr/local/lib/python3.10/dist-packages (from scikit-learn->sentence_transformers) (3.2.0)\n",
            "Requirement already satisfied: pillow!=8.3.*,>=5.3.0 in /usr/local/lib/python3.10/dist-packages (from torchvision->sentence_transformers) (9.4.0)\n",
            "Requirement already satisfied: MarkupSafe>=2.0 in /usr/local/lib/python3.10/dist-packages (from jinja2->torch>=1.6.0->sentence_transformers) (2.1.3)\n",
            "Requirement already satisfied: charset-normalizer<4,>=2 in /usr/local/lib/python3.10/dist-packages (from requests->huggingface-hub>=0.4.0->sentence_transformers) (3.2.0)\n",
            "Requirement already satisfied: idna<4,>=2.5 in /usr/local/lib/python3.10/dist-packages (from requests->huggingface-hub>=0.4.0->sentence_transformers) (3.4)\n",
            "Requirement already satisfied: urllib3<3,>=1.21.1 in /usr/local/lib/python3.10/dist-packages (from requests->huggingface-hub>=0.4.0->sentence_transformers) (2.0.4)\n",
            "Requirement already satisfied: certifi>=2017.4.17 in /usr/local/lib/python3.10/dist-packages (from requests->huggingface-hub>=0.4.0->sentence_transformers) (2023.7.22)\n",
            "Requirement already satisfied: mpmath>=0.19 in /usr/local/lib/python3.10/dist-packages (from sympy->torch>=1.6.0->sentence_transformers) (1.3.0)\n",
            "Requirement already satisfied: chromadb in /usr/local/lib/python3.10/dist-packages (0.4.6)\n",
            "Requirement already satisfied: requests>=2.28 in /usr/local/lib/python3.10/dist-packages (from chromadb) (2.31.0)\n",
            "Requirement already satisfied: pydantic<2.0,>=1.9 in /usr/local/lib/python3.10/dist-packages (from chromadb) (1.10.12)\n",
            "Requirement already satisfied: chroma-hnswlib==0.7.2 in /usr/local/lib/python3.10/dist-packages (from chromadb) (0.7.2)\n",
            "Requirement already satisfied: fastapi<0.100.0,>=0.95.2 in /usr/local/lib/python3.10/dist-packages (from chromadb) (0.99.1)\n",
            "Requirement already satisfied: uvicorn[standard]>=0.18.3 in /usr/local/lib/python3.10/dist-packages (from chromadb) (0.23.2)\n",
            "Requirement already satisfied: numpy>=1.21.6 in /usr/local/lib/python3.10/dist-packages (from chromadb) (1.23.5)\n",
            "Requirement already satisfied: posthog>=2.4.0 in /usr/local/lib/python3.10/dist-packages (from chromadb) (3.0.2)\n",
            "Requirement already satisfied: typing-extensions>=4.5.0 in /usr/local/lib/python3.10/dist-packages (from chromadb) (4.7.1)\n",
            "Requirement already satisfied: pulsar-client>=3.1.0 in /usr/local/lib/python3.10/dist-packages (from chromadb) (3.2.0)\n",
            "Requirement already satisfied: onnxruntime>=1.14.1 in /usr/local/lib/python3.10/dist-packages (from chromadb) (1.15.1)\n",
            "Requirement already satisfied: tokenizers>=0.13.2 in /usr/local/lib/python3.10/dist-packages (from chromadb) (0.13.3)\n",
            "Requirement already satisfied: pypika>=0.48.9 in /usr/local/lib/python3.10/dist-packages (from chromadb) (0.48.9)\n",
            "Requirement already satisfied: tqdm>=4.65.0 in /usr/local/lib/python3.10/dist-packages (from chromadb) (4.66.1)\n",
            "Requirement already satisfied: overrides>=7.3.1 in /usr/local/lib/python3.10/dist-packages (from chromadb) (7.4.0)\n",
            "Requirement already satisfied: importlib-resources in /usr/local/lib/python3.10/dist-packages (from chromadb) (6.0.1)\n",
            "Requirement already satisfied: starlette<0.28.0,>=0.27.0 in /usr/local/lib/python3.10/dist-packages (from fastapi<0.100.0,>=0.95.2->chromadb) (0.27.0)\n",
            "Requirement already satisfied: coloredlogs in /usr/local/lib/python3.10/dist-packages (from onnxruntime>=1.14.1->chromadb) (15.0.1)\n",
            "Requirement already satisfied: flatbuffers in /usr/local/lib/python3.10/dist-packages (from onnxruntime>=1.14.1->chromadb) (23.5.26)\n",
            "Requirement already satisfied: packaging in /usr/local/lib/python3.10/dist-packages (from onnxruntime>=1.14.1->chromadb) (23.1)\n",
            "Requirement already satisfied: protobuf in /usr/local/lib/python3.10/dist-packages (from onnxruntime>=1.14.1->chromadb) (3.20.3)\n",
            "Requirement already satisfied: sympy in /usr/local/lib/python3.10/dist-packages (from onnxruntime>=1.14.1->chromadb) (1.12)\n",
            "Requirement already satisfied: six>=1.5 in /usr/local/lib/python3.10/dist-packages (from posthog>=2.4.0->chromadb) (1.16.0)\n",
            "Requirement already satisfied: monotonic>=1.5 in /usr/local/lib/python3.10/dist-packages (from posthog>=2.4.0->chromadb) (1.6)\n",
            "Requirement already satisfied: backoff>=1.10.0 in /usr/local/lib/python3.10/dist-packages (from posthog>=2.4.0->chromadb) (2.2.1)\n",
            "Requirement already satisfied: python-dateutil>2.1 in /usr/local/lib/python3.10/dist-packages (from posthog>=2.4.0->chromadb) (2.8.2)\n",
            "Requirement already satisfied: certifi in /usr/local/lib/python3.10/dist-packages (from pulsar-client>=3.1.0->chromadb) (2023.7.22)\n",
            "Requirement already satisfied: charset-normalizer<4,>=2 in /usr/local/lib/python3.10/dist-packages (from requests>=2.28->chromadb) (3.2.0)\n",
            "Requirement already satisfied: idna<4,>=2.5 in /usr/local/lib/python3.10/dist-packages (from requests>=2.28->chromadb) (3.4)\n",
            "Requirement already satisfied: urllib3<3,>=1.21.1 in /usr/local/lib/python3.10/dist-packages (from requests>=2.28->chromadb) (2.0.4)\n",
            "Requirement already satisfied: click>=7.0 in /usr/local/lib/python3.10/dist-packages (from uvicorn[standard]>=0.18.3->chromadb) (8.1.7)\n",
            "Requirement already satisfied: h11>=0.8 in /usr/local/lib/python3.10/dist-packages (from uvicorn[standard]>=0.18.3->chromadb) (0.14.0)\n",
            "Requirement already satisfied: httptools>=0.5.0 in /usr/local/lib/python3.10/dist-packages (from uvicorn[standard]>=0.18.3->chromadb) (0.6.0)\n",
            "Requirement already satisfied: python-dotenv>=0.13 in /usr/local/lib/python3.10/dist-packages (from uvicorn[standard]>=0.18.3->chromadb) (1.0.0)\n",
            "Requirement already satisfied: pyyaml>=5.1 in /usr/local/lib/python3.10/dist-packages (from uvicorn[standard]>=0.18.3->chromadb) (6.0.1)\n",
            "Requirement already satisfied: uvloop!=0.15.0,!=0.15.1,>=0.14.0 in /usr/local/lib/python3.10/dist-packages (from uvicorn[standard]>=0.18.3->chromadb) (0.17.0)\n",
            "Requirement already satisfied: watchfiles>=0.13 in /usr/local/lib/python3.10/dist-packages (from uvicorn[standard]>=0.18.3->chromadb) (0.19.0)\n",
            "Requirement already satisfied: websockets>=10.4 in /usr/local/lib/python3.10/dist-packages (from uvicorn[standard]>=0.18.3->chromadb) (11.0.3)\n",
            "Requirement already satisfied: anyio<5,>=3.4.0 in /usr/local/lib/python3.10/dist-packages (from starlette<0.28.0,>=0.27.0->fastapi<0.100.0,>=0.95.2->chromadb) (3.7.1)\n",
            "Requirement already satisfied: humanfriendly>=9.1 in /usr/local/lib/python3.10/dist-packages (from coloredlogs->onnxruntime>=1.14.1->chromadb) (10.0)\n",
            "Requirement already satisfied: mpmath>=0.19 in /usr/local/lib/python3.10/dist-packages (from sympy->onnxruntime>=1.14.1->chromadb) (1.3.0)\n",
            "Requirement already satisfied: sniffio>=1.1 in /usr/local/lib/python3.10/dist-packages (from anyio<5,>=3.4.0->starlette<0.28.0,>=0.27.0->fastapi<0.100.0,>=0.95.2->chromadb) (1.3.0)\n",
            "Requirement already satisfied: exceptiongroup in /usr/local/lib/python3.10/dist-packages (from anyio<5,>=3.4.0->starlette<0.28.0,>=0.27.0->fastapi<0.100.0,>=0.95.2->chromadb) (1.1.3)\n"
          ]
        }
      ],
      "source": [
        "!pip install langchain\n",
        "!pip install huggingface_hub\n",
        "!pip install transformers\n",
        "!pip install datasets\n",
        "!pip install unstructured\n",
        "!pip install pdf2image\n",
        "!pip install pdfminer\n",
        "!pip install pdfminer-six\n",
        "!pip install sentence_transformers\n",
        "!pip install chromadb\n",
        "!pip install arxiv"
      ]
    },
    {
      "cell_type": "code",
      "source": [
        "from getpass import getpass\n",
        "\n",
        "HUGGINGFACEHUB_API_TOKEN = getpass()"
      ],
      "metadata": {
        "colab": {
          "base_uri": "https://localhost:8080/"
        },
        "id": "f27H_j4w239o",
        "outputId": "7531e7eb-d5ae-414d-f8d8-5e7092ca20d1"
      },
      "execution_count": 2,
      "outputs": [
        {
          "name": "stdout",
          "output_type": "stream",
          "text": [
            "··········\n"
          ]
        }
      ]
    },
    {
      "cell_type": "code",
      "source": [
        "import os\n",
        "os.environ[\"HUGGINGFACEHUB_API_TOKEN\"] = HUGGINGFACEHUB_API_TOKEN"
      ],
      "metadata": {
        "id": "aAIqVTyd5Nuw"
      },
      "execution_count": 3,
      "outputs": []
    },
    {
      "cell_type": "code",
      "source": [
        "from langchain import HuggingFaceHub\n",
        "from langchain import PromptTemplate, LLMChain"
      ],
      "metadata": {
        "id": "yrKLF3KO5QE2"
      },
      "execution_count": 4,
      "outputs": []
    },
    {
      "cell_type": "code",
      "source": [
        "question = \"Who won the FIFA World Cup in the year 1994? \"\n",
        "template = \"\"\"Question: {question}\n",
        "\n",
        "Answer: Let's think step by step.\"\"\"\n",
        "\n",
        "prompt = PromptTemplate(template=template, input_variables=[\"question\"])"
      ],
      "metadata": {
        "id": "G9LWow6k5Xnv"
      },
      "execution_count": 5,
      "outputs": []
    },
    {
      "cell_type": "code",
      "source": [
        "# repo_id = \"OpenAssistant/stablelm-7b-sft-v7-epoch-3\""
      ],
      "metadata": {
        "id": "yjTOWwvt5Ybn"
      },
      "execution_count": 6,
      "outputs": []
    },
    {
      "cell_type": "code",
      "source": [
        "repo_id = \"tiiuae/falcon-7b-instruct\""
      ],
      "metadata": {
        "id": "PyrHy8whDJy_"
      },
      "execution_count": 7,
      "outputs": []
    },
    {
      "cell_type": "code",
      "source": [
        "llm = HuggingFaceHub(\n",
        "    repo_id=repo_id, task=\"text-generation\", model_kwargs={\"temperature\": 0.5, \"max_length\": 64}\n",
        ")"
      ],
      "metadata": {
        "id": "utwTFvqY5aTo"
      },
      "execution_count": 8,
      "outputs": []
    },
    {
      "cell_type": "code",
      "source": [
        "from langchain import PromptTemplate\n",
        "\n",
        "template = \"\"\"<|prompter|>{question}<|endoftext|><|assistant|>\"\"\"\n",
        "\n",
        "prompt = PromptTemplate(template=template, input_variables=[\"question\"])"
      ],
      "metadata": {
        "id": "jGf7p-RQB9g5"
      },
      "execution_count": 9,
      "outputs": []
    },
    {
      "cell_type": "code",
      "source": [
        "from langchain import LLMChain\n",
        "\n",
        "llm_chain = LLMChain(prompt=prompt, llm=llm)\n",
        "\n",
        "question = \"What is the meaning of life?\""
      ],
      "metadata": {
        "id": "RHCWCooYB-Zo"
      },
      "execution_count": 10,
      "outputs": []
    },
    {
      "cell_type": "code",
      "source": [
        "llm_chain.run(question)"
      ],
      "metadata": {
        "colab": {
          "base_uri": "https://localhost:8080/",
          "height": 55
        },
        "id": "sGvkVA0cCTf3",
        "outputId": "0ff6cff0-47a6-4856-c979-bb9c1dc757de"
      },
      "execution_count": 11,
      "outputs": [
        {
          "output_type": "execute_result",
          "data": {
            "text/plain": [
              "'The meaning of life is a philosophical question that has been debated by philosophers and scientists alike for centuries.'"
            ],
            "application/vnd.google.colaboratory.intrinsic+json": {
              "type": "string"
            }
          },
          "metadata": {},
          "execution_count": 11
        }
      ]
    },
    {
      "cell_type": "markdown",
      "source": [
        "The model is working, now we will ask it to learn about a topic... the information it shoul learn we will be taken from a PDF file that is on line."
      ],
      "metadata": {
        "id": "ZDDMGVYzD2PH"
      }
    },
    {
      "cell_type": "code",
      "source": [
        "from langchain.document_loaders import OnlinePDFLoader\n",
        "\n",
        "loader = OnlinePDFLoader(\"https://arxiv.org/pdf/1911.01547.pdf\")\n",
        "document = loader.load()"
      ],
      "metadata": {
        "id": "4vNfISeUFaFt"
      },
      "execution_count": 37,
      "outputs": []
    },
    {
      "cell_type": "markdown",
      "source": [
        "La forma en la que podemos usar un modelo de lenguaje para extraer información de un documento es pasándole el contenido del documento como contexto, como parte del prompt. En el caso de un documento corto, como por ejemplo un post o un email, podemos pasar el documento entero como contexto. En el caso de un documento largo, como un libro o un pdf grande como el del ejemplo, es posible que no podamos pasar el documento entero ya que la cantidad de tokens que podemos pasar al modelo es limitada.\n",
        "\n",
        "Una de las grandes ventajas de GPT-4 es que es capaz de admitir contextos de hasta 64k tokens 🤯. Sin embargo, muchos de los modelos disponibles no superan los pocos miles de tokens."
      ],
      "metadata": {
        "id": "0NLy4jvKFn91"
      }
    },
    {
      "cell_type": "code",
      "source": [
        "len(document[0].page_content)"
      ],
      "metadata": {
        "colab": {
          "base_uri": "https://localhost:8080/"
        },
        "id": "_oHK6WERFznt",
        "outputId": "22b7b4c1-ccf8-4194-c52c-5fcee4f3cca9"
      },
      "execution_count": 38,
      "outputs": [
        {
          "output_type": "execute_result",
          "data": {
            "text/plain": [
              "178100"
            ]
          },
          "metadata": {},
          "execution_count": 38
        }
      ]
    },
    {
      "cell_type": "markdown",
      "source": [
        "Para poder llevar a cabo nuestro objetivo, tendremos que generar diferentes trozos de nuestro documento, diferentes chunks. De nuevo, LangChain nos ofrece funcionalidad para ello con sus text splitters."
      ],
      "metadata": {
        "id": "WUWqy0gAF6i9"
      }
    },
    {
      "cell_type": "code",
      "source": [
        "from langchain.text_splitter import CharacterTextSplitter\n",
        "\n",
        "text_splitter = CharacterTextSplitter(chunk_size=1024, chunk_overlap=64)\n",
        "\n",
        "# texts = text_splitter.split_text(raw_text)\n",
        "documents = text_splitter.split_documents(document)\n",
        "\n",
        "len(documents)"
      ],
      "metadata": {
        "colab": {
          "base_uri": "https://localhost:8080/"
        },
        "id": "NounUttEF9C9",
        "outputId": "a579d48a-8121-4c6a-a7cd-151acbf429a5"
      },
      "execution_count": 39,
      "outputs": [
        {
          "output_type": "stream",
          "name": "stderr",
          "text": [
            "WARNING:langchain.text_splitter:Created a chunk of size 1995, which is longer than the specified 1024\n",
            "WARNING:langchain.text_splitter:Created a chunk of size 1435, which is longer than the specified 1024\n",
            "WARNING:langchain.text_splitter:Created a chunk of size 1167, which is longer than the specified 1024\n",
            "WARNING:langchain.text_splitter:Created a chunk of size 1342, which is longer than the specified 1024\n",
            "WARNING:langchain.text_splitter:Created a chunk of size 1037, which is longer than the specified 1024\n",
            "WARNING:langchain.text_splitter:Created a chunk of size 1484, which is longer than the specified 1024\n",
            "WARNING:langchain.text_splitter:Created a chunk of size 1057, which is longer than the specified 1024\n",
            "WARNING:langchain.text_splitter:Created a chunk of size 1044, which is longer than the specified 1024\n",
            "WARNING:langchain.text_splitter:Created a chunk of size 1120, which is longer than the specified 1024\n",
            "WARNING:langchain.text_splitter:Created a chunk of size 1268, which is longer than the specified 1024\n",
            "WARNING:langchain.text_splitter:Created a chunk of size 1464, which is longer than the specified 1024\n",
            "WARNING:langchain.text_splitter:Created a chunk of size 1898, which is longer than the specified 1024\n",
            "WARNING:langchain.text_splitter:Created a chunk of size 1066, which is longer than the specified 1024\n",
            "WARNING:langchain.text_splitter:Created a chunk of size 1506, which is longer than the specified 1024\n",
            "WARNING:langchain.text_splitter:Created a chunk of size 1270, which is longer than the specified 1024\n",
            "WARNING:langchain.text_splitter:Created a chunk of size 1309, which is longer than the specified 1024\n",
            "WARNING:langchain.text_splitter:Created a chunk of size 1160, which is longer than the specified 1024\n",
            "WARNING:langchain.text_splitter:Created a chunk of size 1121, which is longer than the specified 1024\n",
            "WARNING:langchain.text_splitter:Created a chunk of size 1060, which is longer than the specified 1024\n",
            "WARNING:langchain.text_splitter:Created a chunk of size 1103, which is longer than the specified 1024\n",
            "WARNING:langchain.text_splitter:Created a chunk of size 1164, which is longer than the specified 1024\n",
            "WARNING:langchain.text_splitter:Created a chunk of size 1319, which is longer than the specified 1024\n",
            "WARNING:langchain.text_splitter:Created a chunk of size 1148, which is longer than the specified 1024\n",
            "WARNING:langchain.text_splitter:Created a chunk of size 1119, which is longer than the specified 1024\n",
            "WARNING:langchain.text_splitter:Created a chunk of size 1080, which is longer than the specified 1024\n"
          ]
        },
        {
          "output_type": "execute_result",
          "data": {
            "text/plain": [
              "211"
            ]
          },
          "metadata": {},
          "execution_count": 39
        }
      ]
    },
    {
      "cell_type": "markdown",
      "source": [
        "En este ejemplo se han generado 211 documentos de una longitud aproximada de 1024 tokens con un solapamiento de 64 tokens entre ellos para evitar que se pierda información."
      ],
      "metadata": {
        "id": "AdKrSEYLGZOM"
      }
    },
    {
      "cell_type": "code",
      "source": [
        "documents[10].page_content"
      ],
      "metadata": {
        "colab": {
          "base_uri": "https://localhost:8080/",
          "height": 165
        },
        "id": "kMLm1OZsGPo0",
        "outputId": "5511a54c-2913-4ae3-f3ee-c9bbdea5b592"
      },
      "execution_count": 40,
      "outputs": [
        {
          "output_type": "execute_result",
          "data": {
            "text/plain": [
              "'1Turing’s imitation game was largely meant as an argumentative device in a philosophical discussion, not as a literal test of intelligence. Mistaking it for a test representative of the goal of the ﬁeld of AI has been an ongoing problem.\\n\\n3\\n\\nplicit deﬁnitions has been substituted with implicit deﬁnitions and biases that stretch back decades. Though invisible, these biases are still structuring many research efforts today, as illustrated by our ﬁeld’s ongoing fascination with outperforming humans at board games or video games (a trend we discuss in I.3.5 and II.1). The goal of this document is to point out the implicit assumptions our ﬁeld has been working from, correct some of its most salient biases, and provide an actionable formal deﬁnition and measurement benchmark for human-like general intelligence, leveraging modern insight from developmental cognitive psychology.\\n\\nI.2 Deﬁning intelligence: two divergent visions'"
            ],
            "application/vnd.google.colaboratory.intrinsic+json": {
              "type": "string"
            }
          },
          "metadata": {},
          "execution_count": 40
        }
      ]
    },
    {
      "cell_type": "code",
      "source": [
        "documents[11].page_content"
      ],
      "metadata": {
        "colab": {
          "base_uri": "https://localhost:8080/",
          "height": 147
        },
        "id": "YRiE36ElGdTN",
        "outputId": "0ce4976e-b075-4b55-eabb-3b8658e99540"
      },
      "execution_count": 41,
      "outputs": [
        {
          "output_type": "execute_result",
          "data": {
            "text/plain": [
              "'I.2 Deﬁning intelligence: two divergent visions\\n\\nLooked at in one way, everyone knows what intelligence is; looked at in another way, no one does.\\n\\nRobert J. Sternberg, 2000\\n\\nMany formal and informal deﬁnitions of intelligence have been proposed over the past few decades, although there is no existing scientiﬁc consensus around any single deﬁnition. Sternberg & Detterman noted in 1986 [87] that when two dozen prominent psychologists were asked to deﬁne intelligence, they all gave somewhat divergent answers. In the context of AI research, Legg and Hutter [53] summarized in 2007 no fewer than 70 deﬁnitions from the literature into a single statement: “Intelligence measures an agent’s ability to achieve goals in a wide range of environments.”'"
            ],
            "application/vnd.google.colaboratory.intrinsic+json": {
              "type": "string"
            }
          },
          "metadata": {},
          "execution_count": 41
        }
      ]
    },
    {
      "cell_type": "markdown",
      "source": [
        "¿Cómo podemos ahora saber qué trozo de texto le tendremos que pasar al modelo en el prompt? Para ello primero generaremos embeddings de cada documento, una representación numérica en forma de vector."
      ],
      "metadata": {
        "id": "anYBth4HGlaU"
      }
    },
    {
      "cell_type": "code",
      "source": [
        "from langchain.embeddings import HuggingFaceEmbeddings\n",
        "\n",
        "embeddings = HuggingFaceEmbeddings()\n",
        "\n",
        "query_result = embeddings.embed_query(documents[0].page_content)\n",
        "\n",
        "query_result"
      ],
      "metadata": {
        "colab": {
          "base_uri": "https://localhost:8080/"
        },
        "id": "VuNo-2YGGnE8",
        "outputId": "538a47d0-0371-471d-fb18-cd13aabe07b8"
      },
      "execution_count": 42,
      "outputs": [
        {
          "output_type": "execute_result",
          "data": {
            "text/plain": [
              "[-0.033738791942596436,\n",
              " 0.029058972373604774,\n",
              " -0.019138822332024574,\n",
              " -0.014761283993721008,\n",
              " -0.02827995829284191,\n",
              " 0.010240400210022926,\n",
              " 0.0660906508564949,\n",
              " 0.006109540816396475,\n",
              " 0.027785763144493103,\n",
              " 0.018225155770778656,\n",
              " 0.023087022826075554,\n",
              " 0.03958406671881676,\n",
              " 0.01580355316400528,\n",
              " -0.0019698587711900473,\n",
              " 0.06493434309959412,\n",
              " -0.02838229574263096,\n",
              " 0.010179929435253143,\n",
              " -0.01684015803039074,\n",
              " 0.03541147708892822,\n",
              " 0.010596822947263718,\n",
              " -0.08267834037542343,\n",
              " -0.026269566267728806,\n",
              " -0.01072966679930687,\n",
              " 0.010143131949007511,\n",
              " 0.03270533308386803,\n",
              " -0.02920406684279442,\n",
              " 0.059680670499801636,\n",
              " -0.0436161570250988,\n",
              " 0.008716699667274952,\n",
              " -0.04567638784646988,\n",
              " -0.010140788741409779,\n",
              " 0.014314698986709118,\n",
              " -0.07532326132059097,\n",
              " 0.013199940323829651,\n",
              " 1.921378498082049e-06,\n",
              " -0.05154432728886604,\n",
              " 0.007004025857895613,\n",
              " -0.005569100845605135,\n",
              " -0.008541214279830456,\n",
              " -0.01371854729950428,\n",
              " 0.031646646559238434,\n",
              " 0.06817618757486343,\n",
              " -0.004560376051813364,\n",
              " 0.01418569590896368,\n",
              " -0.030293557792901993,\n",
              " 0.040322113782167435,\n",
              " -0.057232145220041275,\n",
              " -0.02653726562857628,\n",
              " -0.007333607878535986,\n",
              " -0.004511014558374882,\n",
              " 0.014450655318796635,\n",
              " 0.03890731558203697,\n",
              " 0.03640037402510643,\n",
              " -0.04470551013946533,\n",
              " 0.026982547715306282,\n",
              " 0.031364183872938156,\n",
              " 0.008665976114571095,\n",
              " 0.01507409568876028,\n",
              " -0.03445291891694069,\n",
              " 0.01483591366559267,\n",
              " -0.015491928905248642,\n",
              " 0.012090357951819897,\n",
              " 0.01596016436815262,\n",
              " -0.018883056938648224,\n",
              " -0.003146075876429677,\n",
              " -0.024884160608053207,\n",
              " 0.05418316647410393,\n",
              " 0.0169972013682127,\n",
              " 0.010323732160031796,\n",
              " -0.034094974398612976,\n",
              " 0.042189259082078934,\n",
              " 0.04196794703602791,\n",
              " -0.0069588529877364635,\n",
              " 0.08878637850284576,\n",
              " 0.037722621113061905,\n",
              " -0.010338584892451763,\n",
              " -0.05734109878540039,\n",
              " -0.018202748149633408,\n",
              " 0.007606487721204758,\n",
              " -0.056580863893032074,\n",
              " 0.00740464311093092,\n",
              " 0.0720439925789833,\n",
              " -0.009843377396464348,\n",
              " 0.007020288147032261,\n",
              " -0.003958587534725666,\n",
              " 0.06351397931575775,\n",
              " 0.03441648185253143,\n",
              " -0.005286818835884333,\n",
              " -0.008966753259301186,\n",
              " -0.03167565539479256,\n",
              " -0.007377296686172485,\n",
              " -0.03356551751494408,\n",
              " -0.02712351083755493,\n",
              " 0.04252472519874573,\n",
              " -0.013678508810698986,\n",
              " -0.03799723833799362,\n",
              " 0.05485396459698677,\n",
              " -0.029367325827479362,\n",
              " 0.019291076809167862,\n",
              " 0.0046217613853514194,\n",
              " 0.007369815371930599,\n",
              " -0.012982531450688839,\n",
              " 0.06455293297767639,\n",
              " 0.05639718472957611,\n",
              " 0.0039304750971496105,\n",
              " 0.06823880225419998,\n",
              " 0.01610935665667057,\n",
              " 0.05211808159947395,\n",
              " -0.04297814890742302,\n",
              " 0.04380115121603012,\n",
              " -0.049365267157554626,\n",
              " -0.013591831550002098,\n",
              " 0.007345019839704037,\n",
              " 0.008210198022425175,\n",
              " 0.08438903838396072,\n",
              " -0.0028257600497454405,\n",
              " -0.057006172835826874,\n",
              " -0.04151215776801109,\n",
              " -0.045022763311862946,\n",
              " 0.0023181091528385878,\n",
              " -0.09455306082963943,\n",
              " -0.002696218667551875,\n",
              " 0.006646001245826483,\n",
              " -0.019275013357400894,\n",
              " -0.03719735145568848,\n",
              " 0.010666359215974808,\n",
              " -0.04907786846160889,\n",
              " 0.030461467802524567,\n",
              " -0.020001433789730072,\n",
              " 0.029629575088620186,\n",
              " -0.00023525551659986377,\n",
              " 0.0227498896420002,\n",
              " 0.010853485204279423,\n",
              " 0.012072844430804253,\n",
              " 0.016775980591773987,\n",
              " 0.1038520336151123,\n",
              " 0.015942754223942757,\n",
              " -0.05384403094649315,\n",
              " 0.01302523072808981,\n",
              " -0.041852764785289764,\n",
              " 0.029129711911082268,\n",
              " -0.03983556479215622,\n",
              " 0.017008241266012192,\n",
              " -0.057602573186159134,\n",
              " 0.00522232661023736,\n",
              " 0.024206845089793205,\n",
              " 0.01830967888236046,\n",
              " -0.07407288998365402,\n",
              " -0.02172193117439747,\n",
              " -0.014340123161673546,\n",
              " -0.01458713598549366,\n",
              " -0.021389946341514587,\n",
              " -0.025807715952396393,\n",
              " 0.02542254514992237,\n",
              " 0.02815425582230091,\n",
              " 0.04819082096219063,\n",
              " -0.024919381365180016,\n",
              " 0.03097805194556713,\n",
              " 0.03734276816248894,\n",
              " -0.043966758996248245,\n",
              " 0.048913367092609406,\n",
              " 0.009321687743067741,\n",
              " 0.03519561514258385,\n",
              " -0.01294988114386797,\n",
              " -0.001944040646776557,\n",
              " 0.002403502818197012,\n",
              " 0.021582141518592834,\n",
              " -0.007976950146257877,\n",
              " -0.00995824858546257,\n",
              " -0.01677265763282776,\n",
              " 0.009496750310063362,\n",
              " 0.001813357463106513,\n",
              " -0.02550717256963253,\n",
              " 0.031349532306194305,\n",
              " 0.02495802752673626,\n",
              " 0.09507029503583908,\n",
              " 0.007599867880344391,\n",
              " 0.03610440716147423,\n",
              " -0.007080679293721914,\n",
              " 0.002967887558043003,\n",
              " 0.029685644432902336,\n",
              " 0.036590564996004105,\n",
              " -0.014041201211512089,\n",
              " 0.03693024441599846,\n",
              " -0.04858171194791794,\n",
              " -0.0035869255661964417,\n",
              " 0.017318444326519966,\n",
              " 0.04335971921682358,\n",
              " -0.03339181840419769,\n",
              " -0.04038611054420471,\n",
              " 0.010326467454433441,\n",
              " 0.019558610394597054,\n",
              " 0.02306218259036541,\n",
              " 0.005706514697521925,\n",
              " 0.0395350381731987,\n",
              " -0.013575825840234756,\n",
              " 0.026090268045663834,\n",
              " -0.08687099814414978,\n",
              " -0.005633749067783356,\n",
              " 0.016129842028021812,\n",
              " -0.036511365324258804,\n",
              " -0.046416062861680984,\n",
              " 0.03416413441300392,\n",
              " 0.00013989194121677428,\n",
              " -0.019065044820308685,\n",
              " -0.000921610917430371,\n",
              " 0.019734347239136696,\n",
              " 0.013099930249154568,\n",
              " -0.0012961637694388628,\n",
              " -0.014180171303451061,\n",
              " 0.008178708143532276,\n",
              " -0.021772993728518486,\n",
              " 0.022798696532845497,\n",
              " 0.00728191202506423,\n",
              " -0.01679406687617302,\n",
              " 0.001764321350492537,\n",
              " 0.033518556505441666,\n",
              " -0.008824716322124004,\n",
              " -0.041417352855205536,\n",
              " 0.03908573463559151,\n",
              " 0.018062513321638107,\n",
              " 0.025716016069054604,\n",
              " -0.014503179118037224,\n",
              " -0.015251859091222286,\n",
              " -0.021397490054368973,\n",
              " -0.01947448030114174,\n",
              " -0.0538003072142601,\n",
              " -0.017016088590025902,\n",
              " 0.05000077933073044,\n",
              " -0.006376022472977638,\n",
              " -0.008141487836837769,\n",
              " 0.016913818195462227,\n",
              " 0.003784565255045891,\n",
              " -0.03444379195570946,\n",
              " -0.023717790842056274,\n",
              " 0.017490772530436516,\n",
              " 0.05735604837536812,\n",
              " 0.10328149795532227,\n",
              " -0.003814192721620202,\n",
              " -0.08809863030910492,\n",
              " 0.01089127641171217,\n",
              " 0.00938432663679123,\n",
              " 0.05362905561923981,\n",
              " 0.0018803911516442895,\n",
              " 0.02757866121828556,\n",
              " -0.04739938676357269,\n",
              " 0.03366813063621521,\n",
              " 0.03878362104296684,\n",
              " 0.04552311822772026,\n",
              " -0.04096879065036774,\n",
              " -0.014710447750985622,\n",
              " -0.009243404492735863,\n",
              " 0.046220920979976654,\n",
              " -0.021032828837633133,\n",
              " 0.05856576934456825,\n",
              " -0.01888316124677658,\n",
              " -0.05649767071008682,\n",
              " 0.04902633652091026,\n",
              " -0.017287056893110275,\n",
              " 0.043258607387542725,\n",
              " -0.07025586813688278,\n",
              " -0.012279621325433254,\n",
              " 0.00745643163099885,\n",
              " -0.005754758138209581,\n",
              " 0.06122684106230736,\n",
              " -0.015164898708462715,\n",
              " -0.0332195907831192,\n",
              " -0.026064276695251465,\n",
              " -0.01369220670312643,\n",
              " -0.014830972999334335,\n",
              " 0.03861476480960846,\n",
              " -0.010799722746014595,\n",
              " -0.02289070002734661,\n",
              " -0.009057249873876572,\n",
              " 0.030564120039343834,\n",
              " 0.011525827459990978,\n",
              " -0.000585229427088052,\n",
              " 0.05961507931351662,\n",
              " 0.0203825943171978,\n",
              " 0.01722705364227295,\n",
              " -0.018123580142855644,\n",
              " -0.016812385991215706,\n",
              " -0.001994842430576682,\n",
              " -0.026433132588863373,\n",
              " -0.041092123836278915,\n",
              " 0.029657982289791107,\n",
              " 0.049869466572999954,\n",
              " 0.021405190229415894,\n",
              " 0.03932772949337959,\n",
              " -0.0260479673743248,\n",
              " -0.07072385400533676,\n",
              " -0.0028600783552974463,\n",
              " -0.03182927519083023,\n",
              " -0.030934300273656845,\n",
              " 0.049849990755319595,\n",
              " 0.005021438933908939,\n",
              " -0.0024160800967365503,\n",
              " 0.07100266218185425,\n",
              " 0.038333721458911896,\n",
              " 0.03020196035504341,\n",
              " -0.002849585609510541,\n",
              " 0.017045939341187477,\n",
              " -0.008700796402990818,\n",
              " -0.006541217677295208,\n",
              " -0.0013259988045319915,\n",
              " 0.06677459180355072,\n",
              " -0.04345456510782242,\n",
              " -0.058187294751405716,\n",
              " -0.015749599784612656,\n",
              " 0.04576243832707405,\n",
              " -0.017573721706867218,\n",
              " -0.009450367651879787,\n",
              " 0.027336277067661285,\n",
              " 0.1256738156080246,\n",
              " -0.050609782338142395,\n",
              " -0.02248692326247692,\n",
              " -0.05581502988934517,\n",
              " -0.010721844621002674,\n",
              " 0.009465842507779598,\n",
              " 0.09131546318531036,\n",
              " -0.00209455331787467,\n",
              " -0.016000166535377502,\n",
              " -0.006381198763847351,\n",
              " 0.004890328273177147,\n",
              " 0.02690194360911846,\n",
              " -0.011719911359250546,\n",
              " -0.014524086378514767,\n",
              " 0.016955828294157982,\n",
              " 0.061066605150699615,\n",
              " 0.021074596792459488,\n",
              " -0.0012065370101481676,\n",
              " -0.06875664740800858,\n",
              " -0.025184988975524902,\n",
              " -0.06916934996843338,\n",
              " 0.010781201533973217,\n",
              " 0.005068236496299505,\n",
              " -0.04582097753882408,\n",
              " -0.002531526144593954,\n",
              " 0.011590246111154556,\n",
              " -0.03827059641480446,\n",
              " -0.011806419119238853,\n",
              " -0.0058248634450137615,\n",
              " -0.00783156231045723,\n",
              " 0.038133978843688965,\n",
              " -0.0077032228000462055,\n",
              " 0.010370930656790733,\n",
              " 0.07483784109354019,\n",
              " -0.07387323677539825,\n",
              " -0.023850416764616966,\n",
              " -0.04586884006857872,\n",
              " 0.06291013956069946,\n",
              " -0.0031961719505488873,\n",
              " 0.01583302952349186,\n",
              " -0.02408980391919613,\n",
              " 0.022500652819871902,\n",
              " -0.040794216096401215,\n",
              " 0.02178630232810974,\n",
              " 0.048628415912389755,\n",
              " 0.026775069534778595,\n",
              " -0.051907408982515335,\n",
              " 0.02325088530778885,\n",
              " 0.023412350565195084,\n",
              " -0.011296188458800316,\n",
              " 0.013520331121981144,\n",
              " 0.06345556676387787,\n",
              " 0.005247726570814848,\n",
              " 0.0267996396869421,\n",
              " 0.006891478318721056,\n",
              " -0.005558255594223738,\n",
              " -0.003569865832105279,\n",
              " 0.04998375102877617,\n",
              " -0.02368840016424656,\n",
              " -0.005689537618309259,\n",
              " 0.05206676572561264,\n",
              " 0.02114669233560562,\n",
              " 0.007877392694354057,\n",
              " 0.006114352960139513,\n",
              " 0.02409033291041851,\n",
              " -0.04192458838224411,\n",
              " 0.02733169123530388,\n",
              " 0.02872045524418354,\n",
              " 0.0025358281563967466,\n",
              " 0.05598057433962822,\n",
              " -0.01965779811143875,\n",
              " 0.014821133576333523,\n",
              " -0.0527065210044384,\n",
              " -0.04182680323719978,\n",
              " 0.0032754039857536554,\n",
              " -0.055778730660676956,\n",
              " -0.012902970425784588,\n",
              " 0.005642355885356665,\n",
              " -0.03146912530064583,\n",
              " -0.059804342687129974,\n",
              " 0.02271588146686554,\n",
              " -0.009291908703744411,\n",
              " 0.0004292318772058934,\n",
              " -0.059912145137786865,\n",
              " -0.005578832235187292,\n",
              " 0.006518335547298193,\n",
              " 0.015599842183291912,\n",
              " -0.02017132192850113,\n",
              " -0.06026405096054077,\n",
              " 0.01486735139042139,\n",
              " 0.04168829321861267,\n",
              " -0.002618216210976243,\n",
              " -0.0037271855399012566,\n",
              " 0.01852564327418804,\n",
              " -0.003119298256933689,\n",
              " -0.04509904235601425,\n",
              " -0.07448269426822662,\n",
              " -0.042220715433359146,\n",
              " -0.006823698058724403,\n",
              " -0.037339210510253906,\n",
              " 0.025944219902157784,\n",
              " 0.044571634382009506,\n",
              " -0.02506244368851185,\n",
              " -0.0023246919736266136,\n",
              " -0.07277366518974304,\n",
              " -0.018417324870824814,\n",
              " 0.06746368855237961,\n",
              " 0.039474718272686005,\n",
              " 0.08646885305643082,\n",
              " -0.0009356247610412538,\n",
              " 0.0276179276406765,\n",
              " -0.03604719415307045,\n",
              " -0.020851902663707733,\n",
              " -0.019900325685739517,\n",
              " -0.005240080412477255,\n",
              " 0.035431090742349625,\n",
              " 0.010476660914719105,\n",
              " -0.024127652868628502,\n",
              " 0.015133279375731945,\n",
              " -0.04413523152470589,\n",
              " -0.023186203092336655,\n",
              " -0.04686298593878746,\n",
              " -0.08233872056007385,\n",
              " 0.03509402647614479,\n",
              " 0.04576130583882332,\n",
              " -0.013557514175772667,\n",
              " -0.05939406156539917,\n",
              " -0.03211778774857521,\n",
              " 0.01699276827275753,\n",
              " 0.1013275533914566,\n",
              " 0.019094320014119148,\n",
              " -0.04330120235681534,\n",
              " -0.04451477900147438,\n",
              " 0.004883899353444576,\n",
              " -0.030359433963894844,\n",
              " -0.012287519872188568,\n",
              " 0.03424156457185745,\n",
              " -0.038960833102464676,\n",
              " -0.06455714255571365,\n",
              " -0.024932682514190674,\n",
              " -0.034552909433841705,\n",
              " 0.003685676259920001,\n",
              " -0.04379458352923393,\n",
              " -0.01693321019411087,\n",
              " 0.006575014442205429,\n",
              " -0.001933976891450584,\n",
              " 0.021189335733652115,\n",
              " 0.07174868881702423,\n",
              " 0.04280216991901398,\n",
              " -0.0413145013153553,\n",
              " -0.02277020551264286,\n",
              " 0.04056806117296219,\n",
              " 0.05166485160589218,\n",
              " -0.020601848140358925,\n",
              " -0.02089587412774563,\n",
              " 0.05030639097094536,\n",
              " 0.0025005550123751163,\n",
              " -0.02888265997171402,\n",
              " -0.01536966860294342,\n",
              " -0.009307852946221828,\n",
              " -0.009160696528851986,\n",
              " 0.07055578380823135,\n",
              " -0.006407642737030983,\n",
              " 0.021720025688409805,\n",
              " -0.043298300355672836,\n",
              " -0.03506211191415787,\n",
              " -0.00526029709726572,\n",
              " -0.0013171276077628136,\n",
              " 0.041878532618284225,\n",
              " 0.022695397958159447,\n",
              " 0.008716755546629429,\n",
              " 0.03061383031308651,\n",
              " -0.040967222303152084,\n",
              " -0.027701105922460556,\n",
              " -0.0425649918615818,\n",
              " -0.009279005229473114,\n",
              " -0.04989361763000488,\n",
              " -0.019210873171687126,\n",
              " 0.023052336648106575,\n",
              " 0.003903167089447379,\n",
              " -0.013650188222527504,\n",
              " 0.01887754537165165,\n",
              " -0.008323577232658863,\n",
              " -0.05069800838828087,\n",
              " 0.0116282282397151,\n",
              " -0.0539063960313797,\n",
              " -0.0065597849898040295,\n",
              " -0.018249722197651863,\n",
              " 0.01104847900569439,\n",
              " 0.0018885282333940268,\n",
              " 0.017383214086294174,\n",
              " -0.020028742030262947,\n",
              " 0.0478675402700901,\n",
              " 0.06450220942497253,\n",
              " 0.05366342514753342,\n",
              " -0.0071056620217859745,\n",
              " 0.015680911019444466,\n",
              " -0.007937723770737648,\n",
              " 0.012170840054750443,\n",
              " -0.08636119216680527,\n",
              " -0.09063759446144104,\n",
              " 0.013713659718632698,\n",
              " 0.0673074945807457,\n",
              " -0.0432233065366745,\n",
              " 0.017337312921881676,\n",
              " -0.005601054523140192,\n",
              " -0.021297750994563103,\n",
              " -0.005185997113585472,\n",
              " -0.016741076484322548,\n",
              " -0.023464566096663475,\n",
              " -0.017635131254792213,\n",
              " -0.027503784745931625,\n",
              " -0.009678326547145844,\n",
              " 0.013824332505464554,\n",
              " 0.03130344673991203,\n",
              " 0.02341988869011402,\n",
              " 0.0336507149040699,\n",
              " -0.05647515878081322,\n",
              " -0.0006174108712002635,\n",
              " -0.023870665580034256,\n",
              " -0.020379696041345596,\n",
              " -0.03449026122689247,\n",
              " -0.00691950274631381,\n",
              " -0.00738045247271657,\n",
              " 0.04045955464243889,\n",
              " 0.023431550711393356,\n",
              " 0.01232016272842884,\n",
              " -0.08776136487722397,\n",
              " -0.036664485931396484,\n",
              " 0.007496220525354147,\n",
              " 0.035990308970212936,\n",
              " 0.07213300466537476,\n",
              " 0.05122128501534462,\n",
              " -0.05384126678109169,\n",
              " 0.030861979350447655,\n",
              " -0.009019826538860798,\n",
              " -0.0014180007856339216,\n",
              " 0.007835431024432182,\n",
              " -0.017183762043714523,\n",
              " -0.12509019672870636,\n",
              " -0.029362598434090614,\n",
              " -0.011686773970723152,\n",
              " -6.0959744807522075e-33,\n",
              " -0.041418757289648056,\n",
              " -0.058340705931186676,\n",
              " 0.03470444306731224,\n",
              " 0.018380511552095413,\n",
              " 0.004870917648077011,\n",
              " -0.0158337764441967,\n",
              " -0.009335028007626534,\n",
              " 0.04256231710314751,\n",
              " -0.09808284044265747,\n",
              " 0.0014779465273022652,\n",
              " -0.013576650060713291,\n",
              " 0.01180309522897005,\n",
              " -0.010321367532014847,\n",
              " -0.03404548764228821,\n",
              " 0.046218570321798325,\n",
              " 0.04737886041402817,\n",
              " -0.010918916203081608,\n",
              " -0.008991911076009274,\n",
              " -0.037024278193712234,\n",
              " -0.012424581684172153,\n",
              " 0.01584470272064209,\n",
              " -0.03589823842048645,\n",
              " 0.016913652420043945,\n",
              " -0.04959827661514282,\n",
              " 0.020757336169481277,\n",
              " -0.0281261894851923,\n",
              " 0.027073966339230537,\n",
              " -0.01704523153603077,\n",
              " 0.002900815801694989,\n",
              " 0.0070612262934446335,\n",
              " -0.020575417205691338,\n",
              " 0.0070716990157961845,\n",
              " 0.0284425001591444,\n",
              " -0.02594843879342079,\n",
              " 0.0037174024619162083,\n",
              " -0.010915329679846764,\n",
              " 0.00014626278425566852,\n",
              " -0.05972723290324211,\n",
              " -0.015657763928174973,\n",
              " -0.05213451385498047,\n",
              " -0.014323068782687187,\n",
              " -0.08784651756286621,\n",
              " 0.0043744053691625595,\n",
              " 0.017613550648093224,\n",
              " -0.04286765307188034,\n",
              " -0.08457881212234497,\n",
              " 0.059280723333358765,\n",
              " 0.027238383889198303,\n",
              " 0.006819550879299641,\n",
              " -0.005837858654558659,\n",
              " -0.011534658260643482,\n",
              " 0.00247592362575233,\n",
              " -0.06382884830236435,\n",
              " -0.002559421816840768,\n",
              " -0.08130522817373276,\n",
              " -0.012505048885941505,\n",
              " 0.0069626024924218655,\n",
              " -0.0695209875702858,\n",
              " 0.002482139505445957,\n",
              " 0.05164176598191261,\n",
              " -0.013380964286625385,\n",
              " 0.01802569441497326,\n",
              " -0.021518193185329437,\n",
              " -0.04905132204294205,\n",
              " 0.01620522141456604,\n",
              " 0.03797281160950661,\n",
              " 0.05573171004652977,\n",
              " 0.015422113239765167,\n",
              " 0.04758017882704735,\n",
              " -0.040233876556158066,\n",
              " 0.04947352036833763,\n",
              " 0.029964054003357887,\n",
              " 0.06107429042458534,\n",
              " -0.029712392017245293,\n",
              " 0.02067001350224018,\n",
              " -0.02462446503341198,\n",
              " -0.01935049705207348,\n",
              " -0.010333775542676449,\n",
              " 0.0648631900548935,\n",
              " 0.012405411340296268,\n",
              " -0.04377333074808121,\n",
              " -0.044586796313524246,\n",
              " -0.05494554713368416,\n",
              " 0.008087108843028545,\n",
              " 0.05227431654930115,\n",
              " -0.026962533593177795,\n",
              " 0.008725574240088463,\n",
              " -0.005967902019619942,\n",
              " 0.015553070232272148,\n",
              " -0.01809775084257126,\n",
              " 0.04557225480675697,\n",
              " -0.006484355311840773,\n",
              " 0.030593406409025192,\n",
              " -0.0023401824291795492,\n",
              " 0.017550399526953697,\n",
              " -0.012700684368610382,\n",
              " 0.011073111556470394,\n",
              " 0.025402259081602097,\n",
              " 0.017709879204630852,\n",
              " -0.004588631447404623,\n",
              " 0.00021769602608401328,\n",
              " 0.00020102800044696778,\n",
              " -0.0011959681287407875,\n",
              " 0.05165713280439377,\n",
              " 0.07502160221338272,\n",
              " -0.00994819775223732,\n",
              " 0.015313911251723766,\n",
              " -0.0021708521526306868,\n",
              " -0.02570125088095665,\n",
              " -0.053088873624801636,\n",
              " 0.023281337693333626,\n",
              " 0.007635601796209812,\n",
              " 0.049746956676244736,\n",
              " -0.07493476569652557,\n",
              " 0.019900262355804443,\n",
              " -0.024363940581679344,\n",
              " 0.0022867254447191954,\n",
              " -0.10615354776382446,\n",
              " -0.00037592582521028817,\n",
              " -0.027608253061771393,\n",
              " -0.03886014595627785,\n",
              " 0.031140295788645744,\n",
              " -0.02654360607266426,\n",
              " -0.021716022863984108,\n",
              " -0.00572376511991024,\n",
              " -0.006764331832528114,\n",
              " -0.012917687185108662,\n",
              " -0.006963848602026701,\n",
              " -0.05771411210298538,\n",
              " -0.0059043061919510365,\n",
              " -0.017039040103554726,\n",
              " -0.023091433569788933,\n",
              " 2.602687914077251e-07,\n",
              " -0.00897708535194397,\n",
              " 0.046364281326532364,\n",
              " -0.01659659668803215,\n",
              " -0.024404706433415413,\n",
              " 0.007810597773641348,\n",
              " -0.014628071337938309,\n",
              " -0.04328286275267601,\n",
              " 0.040462709963321686,\n",
              " 0.06409148871898651,\n",
              " 0.045841798186302185,\n",
              " 0.007482215762138367,\n",
              " -0.01431160606443882,\n",
              " -0.010467849671840668,\n",
              " -0.024471739307045937,\n",
              " -0.00477161118760705,\n",
              " -0.05461179465055466,\n",
              " 0.013920551165938377,\n",
              " 0.02058476209640503,\n",
              " -0.008534753695130348,\n",
              " 0.015886494889855385,\n",
              " 0.050811637192964554,\n",
              " -0.05342406779527664,\n",
              " 0.018453190103173256,\n",
              " 0.004394900053739548,\n",
              " -0.011653655208647251,\n",
              " -0.06567664444446564,\n",
              " -0.034701280295848846,\n",
              " 0.007808478083461523,\n",
              " 0.06333655118942261,\n",
              " 0.00171292491722852,\n",
              " 0.08233962953090668,\n",
              " 0.023465346544981003,\n",
              " -0.0054632993414998055,\n",
              " 0.08643728494644165,\n",
              " 0.0086057148873806,\n",
              " 0.010234554298222065,\n",
              " -0.0005668388912454247,\n",
              " 0.021769750863313675,\n",
              " 0.032000429928302765,\n",
              " 0.11167314648628235,\n",
              " -0.002348201349377632,\n",
              " 0.007254405412822962,\n",
              " 0.03509560227394104,\n",
              " 0.020830297842621803,\n",
              " 0.06168185546994209,\n",
              " 0.0040208399295806885,\n",
              " -0.0592779666185379,\n",
              " 0.00951341912150383,\n",
              " -0.07861275225877762,\n",
              " 0.023670390248298645,\n",
              " 0.006190086714923382,\n",
              " 0.07011424005031586,\n",
              " -0.029010750353336334,\n",
              " 0.016893433406949043,\n",
              " 0.023945707827806473,\n",
              " -0.03903944417834282,\n",
              " 0.0573769174516201,\n",
              " -0.005808833986520767,\n",
              " 0.014189866371452808,\n",
              " 0.03698936104774475,\n",
              " 0.003965073265135288,\n",
              " -0.12506411969661713,\n",
              " -0.013043109327554703,\n",
              " 0.05438211187720299,\n",
              " 0.04275023564696312,\n",
              " -0.013889092952013016,\n",
              " -0.03016476333141327,\n",
              " 2.178329474084157e-34,\n",
              " -0.0020263963378965855,\n",
              " -0.0036676398012787104,\n",
              " 0.02126365527510643,\n",
              " -0.0694843977689743,\n",
              " 0.03262002021074295,\n",
              " -0.02073531784117222,\n",
              " 0.006522017065435648,\n",
              " -0.011524075642228127,\n",
              " 0.0469810925424099,\n",
              " -0.029588792473077774,\n",
              " -0.002862190129235387]"
            ]
          },
          "metadata": {},
          "execution_count": 42
        }
      ]
    },
    {
      "cell_type": "markdown",
      "source": [
        "Estos embedding serán guardados e indexados en una base de datos vectorial, lo cual nos permitirá una búsqueda y extracción eficiente de documentos pasando otro embedding como consulta. Como puedes imaginar, el objetivo será el de recuperar aquellos documentos más similares al prompt, los cuales (supuestamente), contendrán la información que buscamos. En este ejemplo usaremos Chroma como base de datos vectorial."
      ],
      "metadata": {
        "id": "qHzat2lsHVkN"
      }
    },
    {
      "cell_type": "code",
      "source": [
        "from langchain.vectorstores import Chroma\n",
        "\n",
        "vectorstore = Chroma.from_documents(documents, embeddings)"
      ],
      "metadata": {
        "id": "Iuq7HoBtLCIw"
      },
      "execution_count": 43,
      "outputs": []
    },
    {
      "cell_type": "markdown",
      "source": [
        "Ya tenemos todas las piezas que necesitamos para poder chatear con nuestro PDF. Simplemente nos queda generar la cadena adecuada para ello."
      ],
      "metadata": {
        "id": "qVesSa_oLQ5B"
      }
    },
    {
      "cell_type": "code",
      "source": [
        "from langchain.chains import ConversationalRetrievalChain\n",
        "\n",
        "qa = ConversationalRetrievalChain.from_llm(llm, vectorstore.as_retriever(), return_source_documents=True)"
      ],
      "metadata": {
        "id": "gO0V0WnYLSpp"
      },
      "execution_count": 44,
      "outputs": []
    },
    {
      "cell_type": "code",
      "source": [
        "chat_history = []\n",
        "query = \"What is the definition of intelligence?\"\n",
        "result = qa({\"question\": query, \"chat_history\": chat_history})\n",
        "result[\"answer\"]"
      ],
      "metadata": {
        "colab": {
          "base_uri": "https://localhost:8080/",
          "height": 36
        },
        "id": "QAuk8EkJLbrB",
        "outputId": "898f1890-6235-487a-9000-28a2346991ff"
      },
      "execution_count": 45,
      "outputs": [
        {
          "output_type": "execute_result",
          "data": {
            "text/plain": [
              "' Intelligence is the ability to achieve goals in a wide range of environments.\\n\\nIntroduction\\n\\n] I'"
            ],
            "application/vnd.google.colaboratory.intrinsic+json": {
              "type": "string"
            }
          },
          "metadata": {},
          "execution_count": 45
        }
      ]
    },
    {
      "cell_type": "markdown",
      "source": [
        "En el siguiente recuadro vemos el trozo de texto que consideró que es el más cercano a lo que necesitamos y de allí sacó la respuesta a nuestra pregunta."
      ],
      "metadata": {
        "id": "RZcqVjFHOwzV"
      }
    },
    {
      "cell_type": "code",
      "source": [
        "result['source_documents'][0].page_content"
      ],
      "metadata": {
        "colab": {
          "base_uri": "https://localhost:8080/",
          "height": 147
        },
        "id": "7cG79YmfLg2w",
        "outputId": "f298451b-eb4d-45ea-b213-6ee5fd5f237c"
      },
      "execution_count": 46,
      "outputs": [
        {
          "output_type": "execute_result",
          "data": {
            "text/plain": [
              "'I.2 Deﬁning intelligence: two divergent visions\\n\\nLooked at in one way, everyone knows what intelligence is; looked at in another way, no one does.\\n\\nRobert J. Sternberg, 2000\\n\\nMany formal and informal deﬁnitions of intelligence have been proposed over the past few decades, although there is no existing scientiﬁc consensus around any single deﬁnition. Sternberg & Detterman noted in 1986 [87] that when two dozen prominent psychologists were asked to deﬁne intelligence, they all gave somewhat divergent answers. In the context of AI research, Legg and Hutter [53] summarized in 2007 no fewer than 70 deﬁnitions from the literature into a single statement: “Intelligence measures an agent’s ability to achieve goals in a wide range of environments.”'"
            ],
            "application/vnd.google.colaboratory.intrinsic+json": {
              "type": "string"
            }
          },
          "metadata": {},
          "execution_count": 46
        }
      ]
    },
    {
      "cell_type": "markdown",
      "source": [
        "A continuación usaremos un AGENTE que nos facilita el trabajo. En este caso volvemos a utilizar el modelo LLM cargado anteriormente."
      ],
      "metadata": {
        "id": "NB7e2QjTPtFU"
      }
    },
    {
      "cell_type": "code",
      "source": [
        "from langchain.agents import load_tools, initialize_agent, AgentType\n",
        "\n",
        "tools = load_tools(\n",
        "    [\"arxiv\"],\n",
        ")\n",
        "\n",
        "agent_chain = initialize_agent(\n",
        "    tools,\n",
        "    llm,\n",
        "    agent=AgentType.ZERO_SHOT_REACT_DESCRIPTION,\n",
        "    verbose=True,\n",
        ")"
      ],
      "metadata": {
        "id": "_f5UgtiwPySM"
      },
      "execution_count": 49,
      "outputs": []
    },
    {
      "cell_type": "code",
      "source": [
        "agent_chain.run(\n",
        "    \"What's the paper On the measure of intelligence about?\",\n",
        ")"
      ],
      "metadata": {
        "id": "PuSEoo7GQFco"
      },
      "execution_count": null,
      "outputs": []
    },
    {
      "cell_type": "code",
      "source": [
        "#  Solving output parser ERROR. The library has changed."
      ],
      "metadata": {
        "id": "T8kWCfrAQiyf"
      },
      "execution_count": null,
      "outputs": []
    }
  ]
}